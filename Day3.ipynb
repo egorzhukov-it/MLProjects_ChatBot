{
 "cells": [
  {
   "cell_type": "markdown",
   "metadata": {},
   "source": [
    "## https://github.com/Koziev/NLP_Datasets#диалоги-и-обмены-репликами"
   ]
  },
  {
   "cell_type": "code",
   "execution_count": 3,
   "metadata": {},
   "outputs": [],
   "source": [
    "with open('dialogues.txt') as f:\n",
    "    data = f.read()"
   ]
  },
  {
   "cell_type": "code",
   "execution_count": 5,
   "metadata": {},
   "outputs": [
    {
     "data": {
      "text/plain": [
       "'- Пока, толстуха!\\n- Пока, малышка!\\n\\n- Этому надо положить конец,\\n- Это не жизнь!\\n\\n- А ты не помолчиш'"
      ]
     },
     "execution_count": 5,
     "metadata": {},
     "output_type": "execute_result"
    }
   ],
   "source": [
    "data[:100]"
   ]
  },
  {
   "cell_type": "code",
   "execution_count": 51,
   "metadata": {},
   "outputs": [],
   "source": [
    "dialogues = []\n",
    "\n",
    "for dialogue in data.split('\\n\\n'):\n",
    "\n",
    "    replicas = []\n",
    "    for replica in dialogue.split('\\n')[:2]:\n",
    "        replica = replica[2:].lower()\n",
    "        replicas.append(replica)\n",
    "\n",
    "    if len(replicas) == 2 and  5 < len(replicas[0]) < 25 and 5 < len(replicas[1]) < 25:\n",
    "        dialogues.append(replicas)"
   ]
  },
  {
   "cell_type": "code",
   "execution_count": 52,
   "metadata": {},
   "outputs": [
    {
     "name": "stdout",
     "output_type": "stream",
     "text": [
      "239854\n",
      "26\n"
     ]
    },
    {
     "data": {
      "text/plain": [
       "[['пока, толстуха!', 'пока, малышка!'],\n",
       " ['а ты не помолчишь?', 'замолчу, когда захочу.'],\n",
       " ['а ты не помолчишь?', 'замолчу, когда захочу.']]"
      ]
     },
     "execution_count": 52,
     "metadata": {},
     "output_type": "execute_result"
    }
   ],
   "source": [
    "print(len(dialogues))\n",
    "print(len('этому надо положить конец,'))\n",
    "dialogues[:3]"
   ]
  },
  {
   "cell_type": "code",
   "execution_count": 40,
   "metadata": {},
   "outputs": [],
   "source": [
    "mini_dialogues = dialogues[:100000]"
   ]
  },
  {
   "cell_type": "code",
   "execution_count": 43,
   "metadata": {},
   "outputs": [],
   "source": [
    "from nltk.metrics.distance import edit_distance\n",
    "\n",
    "generative_model_threshold = 0.7\n",
    "\n",
    "def get_answer_by_generative_model(text):\n",
    "    text = text.lower()\n",
    "\n",
    "    for question, answer in mini_dialogues:\n",
    "        if abs(len(text) - len(question)) / len(question) < 1 - generative_model_threshold:\n",
    "            dist = edit_distance(text, question)\n",
    "            l = len(question)\n",
    "            similarity = 1 - dist / l\n",
    "            if similarity > generative_model_threshold:\n",
    "                return answer"
   ]
  },
  {
   "cell_type": "code",
   "execution_count": 45,
   "metadata": {},
   "outputs": [
    {
     "data": {
      "text/plain": [
       "'что будете пить, грейси?'"
      ]
     },
     "execution_count": 45,
     "metadata": {},
     "output_type": "execute_result"
    }
   ],
   "source": [
    "get_answer_by_generative_model('всем привет')"
   ]
  },
  {
   "cell_type": "code",
   "execution_count": null,
   "metadata": {},
   "outputs": [],
   "source": []
  }
 ],
 "metadata": {
  "kernelspec": {
   "display_name": "Python 3",
   "language": "python",
   "name": "python3"
  },
  "language_info": {
   "codemirror_mode": {
    "name": "ipython",
    "version": 3
   },
   "file_extension": ".py",
   "mimetype": "text/x-python",
   "name": "python",
   "nbconvert_exporter": "python",
   "pygments_lexer": "ipython3",
   "version": "3.7.6"
  }
 },
 "nbformat": 4,
 "nbformat_minor": 4
}
