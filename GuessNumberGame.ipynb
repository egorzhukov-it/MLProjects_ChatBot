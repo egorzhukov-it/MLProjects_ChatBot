{
 "cells": [
  {
   "cell_type": "markdown",
   "metadata": {},
   "source": [
    "# Игра \"Угадай число\" на Python\n",
    "\n",
    "### Code on Repl.it:\n",
    "### https://repl.it/@Levashov/GuessNumberGame"
   ]
  },
  {
   "cell_type": "code",
   "execution_count": 1,
   "metadata": {},
   "outputs": [
    {
     "name": "stdout",
     "output_type": "stream",
     "text": [
      "Загадай число от 1 до 1000...\n",
      "Загадал?\n",
      "Тогда поехали!\n",
      "\n",
      "Если я угадаю, напиши \"=\",\n",
      "если твое число меньше, то введи \"<\",\n",
      "а если больше, то \">\".\n",
      "И нажми на Enter.\n",
      "\n",
      "Это 500? 123\n",
      "Если я угадаю, напиши \"=\",\n",
      "если твое число меньше, то введи \"<\",\n",
      "а если больше, то \">\".\n",
      "И нажми на Enter.\n",
      "\n",
      "Это 500? =\n",
      "Ура! Я отгадал!\n",
      "Потребовалось шагов: 1\n"
     ]
    }
   ],
   "source": [
    "# Настройки\n",
    "a = 1\n",
    "b = 1000\n",
    "print(f'Загадай число от {a} до {b}...')\n",
    "\n",
    "# Даем время на подумать\n",
    "import time\n",
    "time.sleep(1)\n",
    "print('Загадал?')\n",
    "time.sleep(1)\n",
    "print('Тогда поехали!')\n",
    "print()\n",
    "time.sleep(1)\n",
    "rules = '''Если я угадаю, напиши \"=\",\n",
    "если твое число меньше, то введи \"<\",\n",
    "а если больше, то \">\".\n",
    "И нажми на Enter.\n",
    "'''\n",
    "print(rules)\n",
    "time.sleep(1)\n",
    "\n",
    "# Отгадываем\n",
    "steps = 0\n",
    "\n",
    "while True:\n",
    "    if a > b:\n",
    "        print('Произошел конфуз...')\n",
    "        print('Попробуй заново')\n",
    "        break\n",
    "    if a == b:\n",
    "        print(f'Все понятно. Ответ - {a}')\n",
    "        print(f'Потребовалось шагов: {steps}')\n",
    "        break\n",
    "\n",
    "    steps += 1\n",
    "\n",
    "    number = (a + b) // 2\n",
    "    answer = input(f'Это {number}? ')\n",
    "\n",
    "    if answer == '=':\n",
    "        print('Ура! Я отгадал!')\n",
    "        print(f'Потребовалось шагов: {steps}')\n",
    "        break\n",
    "    elif answer == '<':\n",
    "        b = number - 1\n",
    "    elif answer == '>':\n",
    "        a = number + 1\n",
    "    else:\n",
    "        print(rules)\n",
    "        steps -= 1"
   ]
  },
  {
   "cell_type": "code",
   "execution_count": 3,
   "metadata": {},
   "outputs": [],
   "source": [
    "a = [1, 2, 3, ['a', 'b'], True]"
   ]
  },
  {
   "cell_type": "code",
   "execution_count": 16,
   "metadata": {},
   "outputs": [
    {
     "data": {
      "text/plain": [
       "[2, 3, ['a', 'b'], True]"
      ]
     },
     "execution_count": 16,
     "metadata": {},
     "output_type": "execute_result"
    }
   ],
   "source": [
    "a[1:]"
   ]
  },
  {
   "cell_type": "code",
   "execution_count": 17,
   "metadata": {},
   "outputs": [],
   "source": [
    "b = {\n",
    "    'name': 'Jack',\n",
    "    'age': 89,\n",
    "    'link': 'http://lnsdcjnsd.com'\n",
    "}"
   ]
  },
  {
   "cell_type": "code",
   "execution_count": 19,
   "metadata": {},
   "outputs": [
    {
     "data": {
      "text/plain": [
       "'http://lnsdcjnsd.com'"
      ]
     },
     "execution_count": 19,
     "metadata": {},
     "output_type": "execute_result"
    }
   ],
   "source": [
    "b['link']"
   ]
  },
  {
   "cell_type": "code",
   "execution_count": null,
   "metadata": {},
   "outputs": [],
   "source": []
  }
 ],
 "metadata": {
  "kernelspec": {
   "display_name": "Python 3",
   "language": "python",
   "name": "python3"
  },
  "language_info": {
   "codemirror_mode": {
    "name": "ipython",
    "version": 3
   },
   "file_extension": ".py",
   "mimetype": "text/x-python",
   "name": "python",
   "nbconvert_exporter": "python",
   "pygments_lexer": "ipython3",
   "version": "3.7.6"
  }
 },
 "nbformat": 4,
 "nbformat_minor": 4
}
